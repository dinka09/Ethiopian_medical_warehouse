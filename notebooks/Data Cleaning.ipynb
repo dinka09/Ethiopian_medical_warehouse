{
 "cells": [
  {
   "cell_type": "code",
   "execution_count": 1,
   "metadata": {},
   "outputs": [],
   "source": [
    "import pandas as pd"
   ]
  },
  {
   "cell_type": "code",
   "execution_count": 2,
   "metadata": {},
   "outputs": [],
   "source": [
    "import sys\n",
    "import os\n",
    "sys.path.append(os.path.abspath(os.path.join(os.getcwd(), '../scripts')))"
   ]
  },
  {
   "cell_type": "code",
   "execution_count": 3,
   "metadata": {},
   "outputs": [],
   "source": [
    "from utils import *"
   ]
  },
  {
   "cell_type": "code",
   "execution_count": 4,
   "metadata": {},
   "outputs": [],
   "source": [
    "csv_files = [\n",
    "    '../data/scrapped_data/@CheMed123_data.csv',\n",
    "    '../data/scrapped_data/@DoctorsET_data.csv',\n",
    "    '../data/scrapped_data/@EAHCI_data.csv',\n",
    "    '../data/scrapped_data/@lobelia4cosmetics_data.csv',\n",
    "    '../data/scrapped_data/@yetenaweg_data.csv'\n",
    "]\n"
   ]
  },
  {
   "cell_type": "code",
   "execution_count": 5,
   "metadata": {},
   "outputs": [],
   "source": [
    "# Read each CSV into a DataFrame and store in a list\n",
    "dfs = [pd.read_csv(file) for file in csv_files]\n",
    "\n",
    "# Concatenate all DataFrames into one\n",
    "merged_df = pd.concat(dfs, ignore_index=True)\n",
    "\n",
    "# Save the merged DataFrame to a new CSV file\n",
    "merged_df.to_csv('../data/scrapped_data/merged_file.csv', index=False)"
   ]
  },
  {
   "cell_type": "code",
   "execution_count": 6,
   "metadata": {},
   "outputs": [
    {
     "data": {
      "text/html": [
       "<div>\n",
       "<style scoped>\n",
       "    .dataframe tbody tr th:only-of-type {\n",
       "        vertical-align: middle;\n",
       "    }\n",
       "\n",
       "    .dataframe tbody tr th {\n",
       "        vertical-align: top;\n",
       "    }\n",
       "\n",
       "    .dataframe thead th {\n",
       "        text-align: right;\n",
       "    }\n",
       "</style>\n",
       "<table border=\"1\" class=\"dataframe\">\n",
       "  <thead>\n",
       "    <tr style=\"text-align: right;\">\n",
       "      <th></th>\n",
       "      <th>Channel Title</th>\n",
       "      <th>Channel Username</th>\n",
       "      <th>ID</th>\n",
       "      <th>Message</th>\n",
       "      <th>Date</th>\n",
       "      <th>Views</th>\n",
       "      <th>Message Link</th>\n",
       "    </tr>\n",
       "  </thead>\n",
       "  <tbody>\n",
       "    <tr>\n",
       "      <th>0</th>\n",
       "      <td>CheMed</td>\n",
       "      <td>@CheMed123</td>\n",
       "      <td>97</td>\n",
       "      <td>⚠️Notice!\\nDear esteemed customers,\\nDue to fo...</td>\n",
       "      <td>2023-02-10 12:23:06+00:00</td>\n",
       "      <td>988.0</td>\n",
       "      <td>https://t.me/@CheMed123/97</td>\n",
       "    </tr>\n",
       "    <tr>\n",
       "      <th>1</th>\n",
       "      <td>CheMed</td>\n",
       "      <td>@CheMed123</td>\n",
       "      <td>96</td>\n",
       "      <td>Mela-One በውስጡ ሆርሞን ያለው ድንገተኛ ወሊድ መቆጣጠርያ ሲሆን ያለ...</td>\n",
       "      <td>2023-02-02 08:58:52+00:00</td>\n",
       "      <td>971.0</td>\n",
       "      <td>https://t.me/@CheMed123/96</td>\n",
       "    </tr>\n",
       "    <tr>\n",
       "      <th>2</th>\n",
       "      <td>CheMed</td>\n",
       "      <td>@CheMed123</td>\n",
       "      <td>95</td>\n",
       "      <td>አዚትሮማይሲን በሃኪም መድሃኒት ማዘዣ ከሚታዘዙ አንቲባዮቲኮች አንዱ ሲሆን...</td>\n",
       "      <td>2023-02-01 08:59:37+00:00</td>\n",
       "      <td>882.0</td>\n",
       "      <td>https://t.me/@CheMed123/95</td>\n",
       "    </tr>\n",
       "    <tr>\n",
       "      <th>3</th>\n",
       "      <td>CheMed</td>\n",
       "      <td>@CheMed123</td>\n",
       "      <td>94</td>\n",
       "      <td>Che-Med Trivia #3\\n\\nምግብና መጠጦች አንዳንድ መድሃኒቶች በደ...</td>\n",
       "      <td>2023-01-31 09:19:53+00:00</td>\n",
       "      <td>689.0</td>\n",
       "      <td>https://t.me/@CheMed123/94</td>\n",
       "    </tr>\n",
       "    <tr>\n",
       "      <th>4</th>\n",
       "      <td>CheMed</td>\n",
       "      <td>@CheMed123</td>\n",
       "      <td>93</td>\n",
       "      <td>Che-Med Trivia #2\\n\\nእንደ Ciprofloxacin, Doxycy...</td>\n",
       "      <td>2023-01-30 09:45:25+00:00</td>\n",
       "      <td>603.0</td>\n",
       "      <td>https://t.me/@CheMed123/93</td>\n",
       "    </tr>\n",
       "  </tbody>\n",
       "</table>\n",
       "</div>"
      ],
      "text/plain": [
       "  Channel Title Channel Username  ID  \\\n",
       "0        CheMed       @CheMed123  97   \n",
       "1        CheMed       @CheMed123  96   \n",
       "2        CheMed       @CheMed123  95   \n",
       "3        CheMed       @CheMed123  94   \n",
       "4        CheMed       @CheMed123  93   \n",
       "\n",
       "                                             Message  \\\n",
       "0  ⚠️Notice!\\nDear esteemed customers,\\nDue to fo...   \n",
       "1  Mela-One በውስጡ ሆርሞን ያለው ድንገተኛ ወሊድ መቆጣጠርያ ሲሆን ያለ...   \n",
       "2  አዚትሮማይሲን በሃኪም መድሃኒት ማዘዣ ከሚታዘዙ አንቲባዮቲኮች አንዱ ሲሆን...   \n",
       "3  Che-Med Trivia #3\\n\\nምግብና መጠጦች አንዳንድ መድሃኒቶች በደ...   \n",
       "4  Che-Med Trivia #2\\n\\nእንደ Ciprofloxacin, Doxycy...   \n",
       "\n",
       "                        Date  Views                Message Link  \n",
       "0  2023-02-10 12:23:06+00:00  988.0  https://t.me/@CheMed123/97  \n",
       "1  2023-02-02 08:58:52+00:00  971.0  https://t.me/@CheMed123/96  \n",
       "2  2023-02-01 08:59:37+00:00  882.0  https://t.me/@CheMed123/95  \n",
       "3  2023-01-31 09:19:53+00:00  689.0  https://t.me/@CheMed123/94  \n",
       "4  2023-01-30 09:45:25+00:00  603.0  https://t.me/@CheMed123/93  "
      ]
     },
     "execution_count": 6,
     "metadata": {},
     "output_type": "execute_result"
    }
   ],
   "source": [
    "merged_df.head()"
   ]
  },
  {
   "cell_type": "markdown",
   "metadata": {},
   "source": [
    "### Checking missing values"
   ]
  },
  {
   "cell_type": "code",
   "execution_count": 7,
   "metadata": {},
   "outputs": [
    {
     "name": "stdout",
     "output_type": "stream",
     "text": [
      "Your selected dataframe has 7 columns.\n",
      "There are 2 columns that have missing values.\n"
     ]
    },
    {
     "data": {
      "text/html": [
       "<div>\n",
       "<style scoped>\n",
       "    .dataframe tbody tr th:only-of-type {\n",
       "        vertical-align: middle;\n",
       "    }\n",
       "\n",
       "    .dataframe tbody tr th {\n",
       "        vertical-align: top;\n",
       "    }\n",
       "\n",
       "    .dataframe thead th {\n",
       "        text-align: right;\n",
       "    }\n",
       "</style>\n",
       "<table border=\"1\" class=\"dataframe\">\n",
       "  <thead>\n",
       "    <tr style=\"text-align: right;\">\n",
       "      <th></th>\n",
       "      <th>Missing Values</th>\n",
       "      <th>% of Total Values</th>\n",
       "    </tr>\n",
       "  </thead>\n",
       "  <tbody>\n",
       "    <tr>\n",
       "      <th>Message</th>\n",
       "      <td>1187</td>\n",
       "      <td>18.6</td>\n",
       "    </tr>\n",
       "    <tr>\n",
       "      <th>Views</th>\n",
       "      <td>380</td>\n",
       "      <td>6.0</td>\n",
       "    </tr>\n",
       "  </tbody>\n",
       "</table>\n",
       "</div>"
      ],
      "text/plain": [
       "         Missing Values  % of Total Values\n",
       "Message            1187               18.6\n",
       "Views               380                6.0"
      ]
     },
     "execution_count": 7,
     "metadata": {},
     "output_type": "execute_result"
    }
   ],
   "source": [
    "missing_values_table(merged_df)"
   ]
  },
  {
   "cell_type": "markdown",
   "metadata": {},
   "source": [
    "### Dropping missing values"
   ]
  },
  {
   "cell_type": "code",
   "execution_count": 8,
   "metadata": {},
   "outputs": [],
   "source": [
    "merged_df.dropna(inplace=True)"
   ]
  },
  {
   "cell_type": "code",
   "execution_count": 9,
   "metadata": {},
   "outputs": [
    {
     "name": "stdout",
     "output_type": "stream",
     "text": [
      "Your selected dataframe has 7 columns.\n",
      "There are 0 columns that have missing values.\n"
     ]
    },
    {
     "data": {
      "text/html": [
       "<div>\n",
       "<style scoped>\n",
       "    .dataframe tbody tr th:only-of-type {\n",
       "        vertical-align: middle;\n",
       "    }\n",
       "\n",
       "    .dataframe tbody tr th {\n",
       "        vertical-align: top;\n",
       "    }\n",
       "\n",
       "    .dataframe thead th {\n",
       "        text-align: right;\n",
       "    }\n",
       "</style>\n",
       "<table border=\"1\" class=\"dataframe\">\n",
       "  <thead>\n",
       "    <tr style=\"text-align: right;\">\n",
       "      <th></th>\n",
       "      <th>Missing Values</th>\n",
       "      <th>% of Total Values</th>\n",
       "    </tr>\n",
       "  </thead>\n",
       "  <tbody>\n",
       "  </tbody>\n",
       "</table>\n",
       "</div>"
      ],
      "text/plain": [
       "Empty DataFrame\n",
       "Columns: [Missing Values, % of Total Values]\n",
       "Index: []"
      ]
     },
     "execution_count": 9,
     "metadata": {},
     "output_type": "execute_result"
    }
   ],
   "source": [
    "missing_values_table(merged_df)"
   ]
  },
  {
   "cell_type": "markdown",
   "metadata": {},
   "source": [
    "### Checking for duplicates"
   ]
  },
  {
   "cell_type": "code",
   "execution_count": 10,
   "metadata": {},
   "outputs": [
    {
     "data": {
      "text/html": [
       "<div>\n",
       "<style scoped>\n",
       "    .dataframe tbody tr th:only-of-type {\n",
       "        vertical-align: middle;\n",
       "    }\n",
       "\n",
       "    .dataframe tbody tr th {\n",
       "        vertical-align: top;\n",
       "    }\n",
       "\n",
       "    .dataframe thead th {\n",
       "        text-align: right;\n",
       "    }\n",
       "</style>\n",
       "<table border=\"1\" class=\"dataframe\">\n",
       "  <thead>\n",
       "    <tr style=\"text-align: right;\">\n",
       "      <th></th>\n",
       "      <th>Channel Title</th>\n",
       "      <th>Channel Username</th>\n",
       "      <th>ID</th>\n",
       "      <th>Message</th>\n",
       "      <th>Date</th>\n",
       "      <th>Views</th>\n",
       "      <th>Message Link</th>\n",
       "    </tr>\n",
       "  </thead>\n",
       "  <tbody>\n",
       "  </tbody>\n",
       "</table>\n",
       "</div>"
      ],
      "text/plain": [
       "Empty DataFrame\n",
       "Columns: [Channel Title, Channel Username, ID, Message, Date, Views, Message Link]\n",
       "Index: []"
      ]
     },
     "execution_count": 10,
     "metadata": {},
     "output_type": "execute_result"
    }
   ],
   "source": [
    "# Check for duplicated rows\n",
    "duplicated_rows = merged_df[merged_df.duplicated()]\n",
    "\n",
    "# Display duplicated rows\n",
    "duplicated_rows"
   ]
  },
  {
   "cell_type": "code",
   "execution_count": 11,
   "metadata": {},
   "outputs": [
    {
     "data": {
      "text/plain": [
       "(5182, 7)"
      ]
     },
     "execution_count": 11,
     "metadata": {},
     "output_type": "execute_result"
    }
   ],
   "source": [
    "merged_df.shape"
   ]
  },
  {
   "cell_type": "code",
   "execution_count": 12,
   "metadata": {},
   "outputs": [
    {
     "data": {
      "text/html": [
       "<div>\n",
       "<style scoped>\n",
       "    .dataframe tbody tr th:only-of-type {\n",
       "        vertical-align: middle;\n",
       "    }\n",
       "\n",
       "    .dataframe tbody tr th {\n",
       "        vertical-align: top;\n",
       "    }\n",
       "\n",
       "    .dataframe thead th {\n",
       "        text-align: right;\n",
       "    }\n",
       "</style>\n",
       "<table border=\"1\" class=\"dataframe\">\n",
       "  <thead>\n",
       "    <tr style=\"text-align: right;\">\n",
       "      <th></th>\n",
       "      <th>col_name</th>\n",
       "      <th>col_dtype</th>\n",
       "      <th>num_of_nulls</th>\n",
       "      <th>num_of_non_nulls</th>\n",
       "      <th>num_of_distinct_values</th>\n",
       "      <th>distinct_values_counts</th>\n",
       "    </tr>\n",
       "  </thead>\n",
       "  <tbody>\n",
       "    <tr>\n",
       "      <th>0</th>\n",
       "      <td>Channel Title</td>\n",
       "      <td>object</td>\n",
       "      <td>0</td>\n",
       "      <td>5182</td>\n",
       "      <td>5</td>\n",
       "      <td>{'Lobelia pharmacy and cosmetics': 2254, 'ETHI...</td>\n",
       "    </tr>\n",
       "    <tr>\n",
       "      <th>1</th>\n",
       "      <td>Channel Username</td>\n",
       "      <td>object</td>\n",
       "      <td>0</td>\n",
       "      <td>5182</td>\n",
       "      <td>5</td>\n",
       "      <td>{'@lobelia4cosmetics': 2254, '@EAHCI': 1529, '...</td>\n",
       "    </tr>\n",
       "    <tr>\n",
       "      <th>2</th>\n",
       "      <td>ID</td>\n",
       "      <td>int64</td>\n",
       "      <td>0</td>\n",
       "      <td>5182</td>\n",
       "      <td>4191</td>\n",
       "      <td>{71: 5, 39: 4, 40: 4, 57: 4, 30: 4, 70: 4, 52:...</td>\n",
       "    </tr>\n",
       "    <tr>\n",
       "      <th>3</th>\n",
       "      <td>Message</td>\n",
       "      <td>object</td>\n",
       "      <td>0</td>\n",
       "      <td>5182</td>\n",
       "      <td>2875</td>\n",
       "      <td>{'NIDO USA 2.2KG\n",
       "Price 5900 birr \n",
       "Telegram htt...</td>\n",
       "    </tr>\n",
       "    <tr>\n",
       "      <th>4</th>\n",
       "      <td>Date</td>\n",
       "      <td>object</td>\n",
       "      <td>0</td>\n",
       "      <td>5182</td>\n",
       "      <td>3378</td>\n",
       "      <td>{'2024-10-08 04:35:59+00:00': 24, '2024-10-02 ...</td>\n",
       "    </tr>\n",
       "    <tr>\n",
       "      <th>5</th>\n",
       "      <td>Views</td>\n",
       "      <td>float64</td>\n",
       "      <td>0</td>\n",
       "      <td>5182</td>\n",
       "      <td>3051</td>\n",
       "      <td>{827.0: 9, 1417.0: 9, 997.0: 9, 1170.0: 9, 846...</td>\n",
       "    </tr>\n",
       "    <tr>\n",
       "      <th>6</th>\n",
       "      <td>Message Link</td>\n",
       "      <td>object</td>\n",
       "      <td>0</td>\n",
       "      <td>5182</td>\n",
       "      <td>5182</td>\n",
       "      <td>{'https://t.me/@CheMed123/97': 1, 'https://t.m...</td>\n",
       "    </tr>\n",
       "  </tbody>\n",
       "</table>\n",
       "</div>"
      ],
      "text/plain": [
       "           col_name col_dtype  num_of_nulls  num_of_non_nulls  \\\n",
       "0     Channel Title    object             0              5182   \n",
       "1  Channel Username    object             0              5182   \n",
       "2                ID     int64             0              5182   \n",
       "3           Message    object             0              5182   \n",
       "4              Date    object             0              5182   \n",
       "5             Views   float64             0              5182   \n",
       "6      Message Link    object             0              5182   \n",
       "\n",
       "   num_of_distinct_values                             distinct_values_counts  \n",
       "0                       5  {'Lobelia pharmacy and cosmetics': 2254, 'ETHI...  \n",
       "1                       5  {'@lobelia4cosmetics': 2254, '@EAHCI': 1529, '...  \n",
       "2                    4191  {71: 5, 39: 4, 40: 4, 57: 4, 30: 4, 70: 4, 52:...  \n",
       "3                    2875  {'NIDO USA 2.2KG\n",
       "Price 5900 birr \n",
       "Telegram htt...  \n",
       "4                    3378  {'2024-10-08 04:35:59+00:00': 24, '2024-10-02 ...  \n",
       "5                    3051  {827.0: 9, 1417.0: 9, 997.0: 9, 1170.0: 9, 846...  \n",
       "6                    5182  {'https://t.me/@CheMed123/97': 1, 'https://t.m...  "
      ]
     },
     "execution_count": 12,
     "metadata": {},
     "output_type": "execute_result"
    }
   ],
   "source": [
    "column_summary(merged_df)"
   ]
  },
  {
   "cell_type": "code",
   "execution_count": 13,
   "metadata": {},
   "outputs": [
    {
     "data": {
      "text/plain": [
       "Index(['Channel Title', 'Channel Username', 'ID', 'Message', 'Date', 'Views',\n",
       "       'Message Link'],\n",
       "      dtype='object')"
      ]
     },
     "execution_count": 13,
     "metadata": {},
     "output_type": "execute_result"
    }
   ],
   "source": [
    "merged_df.columns"
   ]
  },
  {
   "cell_type": "markdown",
   "metadata": {},
   "source": [
    "### Converting Some Object Data Types to String"
   ]
  },
  {
   "cell_type": "code",
   "execution_count": 14,
   "metadata": {},
   "outputs": [],
   "source": [
    "columns_to_string = [\"Channel Title\", \"Channel Username\", \"Message\", \"Message Link\"]"
   ]
  },
  {
   "cell_type": "code",
   "execution_count": 15,
   "metadata": {},
   "outputs": [],
   "source": [
    "for column in columns_to_string:\n",
    "    merged_df[column] = merged_df[column].astype(str)"
   ]
  },
  {
   "cell_type": "code",
   "execution_count": 16,
   "metadata": {},
   "outputs": [],
   "source": [
    "merged_df[\"Views\"] = merged_df[\"Views\"].astype(int)"
   ]
  },
  {
   "cell_type": "markdown",
   "metadata": {},
   "source": [
    "### Converting Date Data Type to Pandas Date Time"
   ]
  },
  {
   "cell_type": "code",
   "execution_count": 17,
   "metadata": {},
   "outputs": [],
   "source": [
    "merged_df[\"Date\"] = pd.to_datetime(merged_df[\"Date\"])"
   ]
  },
  {
   "cell_type": "markdown",
   "metadata": {},
   "source": [
    "### Data Validation"
   ]
  },
  {
   "cell_type": "code",
   "execution_count": 18,
   "metadata": {},
   "outputs": [
    {
     "name": "stdout",
     "output_type": "stream",
     "text": [
      "Requirement already satisfied: emoji in c:\\medical-business-data-warehouse\\venv\\lib\\site-packages (2.14.0)\n",
      "Requirement already satisfied: typing-extensions>=4.7.0 in c:\\medical-business-data-warehouse\\venv\\lib\\site-packages (from emoji) (4.12.2)\n"
     ]
    }
   ],
   "source": [
    "!pip install emoji\n",
    "import emoji\n",
    "\n",
    "\n",
    "def remove_emojis(text):\n",
    "    return emoji.replace_emoji(text, replace='')\n",
    "\n",
    "merged_df[\"Message\"] = merged_df[\"Message\"].apply(remove_emojis)\n"
   ]
  },
  {
   "cell_type": "code",
   "execution_count": 19,
   "metadata": {},
   "outputs": [
    {
     "data": {
      "text/html": [
       "<div>\n",
       "<style scoped>\n",
       "    .dataframe tbody tr th:only-of-type {\n",
       "        vertical-align: middle;\n",
       "    }\n",
       "\n",
       "    .dataframe tbody tr th {\n",
       "        vertical-align: top;\n",
       "    }\n",
       "\n",
       "    .dataframe thead th {\n",
       "        text-align: right;\n",
       "    }\n",
       "</style>\n",
       "<table border=\"1\" class=\"dataframe\">\n",
       "  <thead>\n",
       "    <tr style=\"text-align: right;\">\n",
       "      <th></th>\n",
       "      <th>Channel Title</th>\n",
       "      <th>Channel Username</th>\n",
       "      <th>ID</th>\n",
       "      <th>Message</th>\n",
       "      <th>Date</th>\n",
       "      <th>Views</th>\n",
       "      <th>Message Link</th>\n",
       "    </tr>\n",
       "  </thead>\n",
       "  <tbody>\n",
       "    <tr>\n",
       "      <th>0</th>\n",
       "      <td>CheMed</td>\n",
       "      <td>@CheMed123</td>\n",
       "      <td>97</td>\n",
       "      <td>Notice!\\nDear esteemed customers,\\nDue to four...</td>\n",
       "      <td>2023-02-10 12:23:06+00:00</td>\n",
       "      <td>988</td>\n",
       "      <td>https://t.me/@CheMed123/97</td>\n",
       "    </tr>\n",
       "    <tr>\n",
       "      <th>1</th>\n",
       "      <td>CheMed</td>\n",
       "      <td>@CheMed123</td>\n",
       "      <td>96</td>\n",
       "      <td>Mela-One በውስጡ ሆርሞን ያለው ድንገተኛ ወሊድ መቆጣጠርያ ሲሆን ያለ...</td>\n",
       "      <td>2023-02-02 08:58:52+00:00</td>\n",
       "      <td>971</td>\n",
       "      <td>https://t.me/@CheMed123/96</td>\n",
       "    </tr>\n",
       "    <tr>\n",
       "      <th>2</th>\n",
       "      <td>CheMed</td>\n",
       "      <td>@CheMed123</td>\n",
       "      <td>95</td>\n",
       "      <td>አዚትሮማይሲን በሃኪም መድሃኒት ማዘዣ ከሚታዘዙ አንቲባዮቲኮች አንዱ ሲሆን...</td>\n",
       "      <td>2023-02-01 08:59:37+00:00</td>\n",
       "      <td>882</td>\n",
       "      <td>https://t.me/@CheMed123/95</td>\n",
       "    </tr>\n",
       "    <tr>\n",
       "      <th>3</th>\n",
       "      <td>CheMed</td>\n",
       "      <td>@CheMed123</td>\n",
       "      <td>94</td>\n",
       "      <td>Che-Med Trivia #3\\n\\nምግብና መጠጦች አንዳንድ መድሃኒቶች በደ...</td>\n",
       "      <td>2023-01-31 09:19:53+00:00</td>\n",
       "      <td>689</td>\n",
       "      <td>https://t.me/@CheMed123/94</td>\n",
       "    </tr>\n",
       "    <tr>\n",
       "      <th>4</th>\n",
       "      <td>CheMed</td>\n",
       "      <td>@CheMed123</td>\n",
       "      <td>93</td>\n",
       "      <td>Che-Med Trivia #2\\n\\nእንደ Ciprofloxacin, Doxycy...</td>\n",
       "      <td>2023-01-30 09:45:25+00:00</td>\n",
       "      <td>603</td>\n",
       "      <td>https://t.me/@CheMed123/93</td>\n",
       "    </tr>\n",
       "  </tbody>\n",
       "</table>\n",
       "</div>"
      ],
      "text/plain": [
       "  Channel Title Channel Username  ID  \\\n",
       "0        CheMed       @CheMed123  97   \n",
       "1        CheMed       @CheMed123  96   \n",
       "2        CheMed       @CheMed123  95   \n",
       "3        CheMed       @CheMed123  94   \n",
       "4        CheMed       @CheMed123  93   \n",
       "\n",
       "                                             Message  \\\n",
       "0  Notice!\\nDear esteemed customers,\\nDue to four...   \n",
       "1  Mela-One በውስጡ ሆርሞን ያለው ድንገተኛ ወሊድ መቆጣጠርያ ሲሆን ያለ...   \n",
       "2  አዚትሮማይሲን በሃኪም መድሃኒት ማዘዣ ከሚታዘዙ አንቲባዮቲኮች አንዱ ሲሆን...   \n",
       "3  Che-Med Trivia #3\\n\\nምግብና መጠጦች አንዳንድ መድሃኒቶች በደ...   \n",
       "4  Che-Med Trivia #2\\n\\nእንደ Ciprofloxacin, Doxycy...   \n",
       "\n",
       "                       Date  Views                Message Link  \n",
       "0 2023-02-10 12:23:06+00:00    988  https://t.me/@CheMed123/97  \n",
       "1 2023-02-02 08:58:52+00:00    971  https://t.me/@CheMed123/96  \n",
       "2 2023-02-01 08:59:37+00:00    882  https://t.me/@CheMed123/95  \n",
       "3 2023-01-31 09:19:53+00:00    689  https://t.me/@CheMed123/94  \n",
       "4 2023-01-30 09:45:25+00:00    603  https://t.me/@CheMed123/93  "
      ]
     },
     "execution_count": 19,
     "metadata": {},
     "output_type": "execute_result"
    }
   ],
   "source": [
    "merged_df.head()"
   ]
  },
  {
   "cell_type": "code",
   "execution_count": 20,
   "metadata": {},
   "outputs": [
    {
     "data": {
      "text/html": [
       "<div>\n",
       "<style scoped>\n",
       "    .dataframe tbody tr th:only-of-type {\n",
       "        vertical-align: middle;\n",
       "    }\n",
       "\n",
       "    .dataframe tbody tr th {\n",
       "        vertical-align: top;\n",
       "    }\n",
       "\n",
       "    .dataframe thead th {\n",
       "        text-align: right;\n",
       "    }\n",
       "</style>\n",
       "<table border=\"1\" class=\"dataframe\">\n",
       "  <thead>\n",
       "    <tr style=\"text-align: right;\">\n",
       "      <th></th>\n",
       "      <th>col_name</th>\n",
       "      <th>col_dtype</th>\n",
       "      <th>num_of_nulls</th>\n",
       "      <th>num_of_non_nulls</th>\n",
       "      <th>num_of_distinct_values</th>\n",
       "      <th>distinct_values_counts</th>\n",
       "    </tr>\n",
       "  </thead>\n",
       "  <tbody>\n",
       "    <tr>\n",
       "      <th>0</th>\n",
       "      <td>Channel Title</td>\n",
       "      <td>object</td>\n",
       "      <td>0</td>\n",
       "      <td>5182</td>\n",
       "      <td>5</td>\n",
       "      <td>{'Lobelia pharmacy and cosmetics': 2254, 'ETHI...</td>\n",
       "    </tr>\n",
       "    <tr>\n",
       "      <th>1</th>\n",
       "      <td>Channel Username</td>\n",
       "      <td>object</td>\n",
       "      <td>0</td>\n",
       "      <td>5182</td>\n",
       "      <td>5</td>\n",
       "      <td>{'@lobelia4cosmetics': 2254, '@EAHCI': 1529, '...</td>\n",
       "    </tr>\n",
       "    <tr>\n",
       "      <th>2</th>\n",
       "      <td>ID</td>\n",
       "      <td>int64</td>\n",
       "      <td>0</td>\n",
       "      <td>5182</td>\n",
       "      <td>4191</td>\n",
       "      <td>{71: 5, 39: 4, 40: 4, 57: 4, 30: 4, 70: 4, 52:...</td>\n",
       "    </tr>\n",
       "    <tr>\n",
       "      <th>3</th>\n",
       "      <td>Message</td>\n",
       "      <td>object</td>\n",
       "      <td>0</td>\n",
       "      <td>5182</td>\n",
       "      <td>2875</td>\n",
       "      <td>{'NIDO USA 2.2KG\n",
       "Price 5900 birr \n",
       "Telegram htt...</td>\n",
       "    </tr>\n",
       "    <tr>\n",
       "      <th>4</th>\n",
       "      <td>Date</td>\n",
       "      <td>datetime64[ns, UTC]</td>\n",
       "      <td>0</td>\n",
       "      <td>5182</td>\n",
       "      <td>3378</td>\n",
       "      <td>{2024-10-08 04:35:59+00:00: 24, 2024-10-02 08:...</td>\n",
       "    </tr>\n",
       "    <tr>\n",
       "      <th>5</th>\n",
       "      <td>Views</td>\n",
       "      <td>int32</td>\n",
       "      <td>0</td>\n",
       "      <td>5182</td>\n",
       "      <td>3051</td>\n",
       "      <td>{827: 9, 1417: 9, 997: 9, 1170: 9, 846: 9, 842...</td>\n",
       "    </tr>\n",
       "    <tr>\n",
       "      <th>6</th>\n",
       "      <td>Message Link</td>\n",
       "      <td>object</td>\n",
       "      <td>0</td>\n",
       "      <td>5182</td>\n",
       "      <td>5182</td>\n",
       "      <td>{'https://t.me/@CheMed123/97': 1, 'https://t.m...</td>\n",
       "    </tr>\n",
       "  </tbody>\n",
       "</table>\n",
       "</div>"
      ],
      "text/plain": [
       "           col_name            col_dtype  num_of_nulls  num_of_non_nulls  \\\n",
       "0     Channel Title               object             0              5182   \n",
       "1  Channel Username               object             0              5182   \n",
       "2                ID                int64             0              5182   \n",
       "3           Message               object             0              5182   \n",
       "4              Date  datetime64[ns, UTC]             0              5182   \n",
       "5             Views                int32             0              5182   \n",
       "6      Message Link               object             0              5182   \n",
       "\n",
       "   num_of_distinct_values                             distinct_values_counts  \n",
       "0                       5  {'Lobelia pharmacy and cosmetics': 2254, 'ETHI...  \n",
       "1                       5  {'@lobelia4cosmetics': 2254, '@EAHCI': 1529, '...  \n",
       "2                    4191  {71: 5, 39: 4, 40: 4, 57: 4, 30: 4, 70: 4, 52:...  \n",
       "3                    2875  {'NIDO USA 2.2KG\n",
       "Price 5900 birr \n",
       "Telegram htt...  \n",
       "4                    3378  {2024-10-08 04:35:59+00:00: 24, 2024-10-02 08:...  \n",
       "5                    3051  {827: 9, 1417: 9, 997: 9, 1170: 9, 846: 9, 842...  \n",
       "6                    5182  {'https://t.me/@CheMed123/97': 1, 'https://t.m...  "
      ]
     },
     "execution_count": 20,
     "metadata": {},
     "output_type": "execute_result"
    }
   ],
   "source": [
    "column_summary(merged_df)"
   ]
  },
  {
   "cell_type": "code",
   "execution_count": 21,
   "metadata": {},
   "outputs": [],
   "source": [
    "merged_df.to_csv('../data/scrapped_data/merged_file_cleaned.csv', index=False)"
   ]
  },
  {
   "cell_type": "code",
   "execution_count": null,
   "metadata": {},
   "outputs": [],
   "source": []
  }
 ],
 "metadata": {
  "kernelspec": {
   "display_name": "venv",
   "language": "python",
   "name": "python3"
  },
  "language_info": {
   "codemirror_mode": {
    "name": "ipython",
    "version": 3
   },
   "file_extension": ".py",
   "mimetype": "text/x-python",
   "name": "python",
   "nbconvert_exporter": "python",
   "pygments_lexer": "ipython3",
   "version": "3.8.0"
  }
 },
 "nbformat": 4,
 "nbformat_minor": 2
}
